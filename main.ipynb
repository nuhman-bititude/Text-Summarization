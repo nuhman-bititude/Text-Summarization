{
 "cells": [
  {
   "cell_type": "code",
   "execution_count": 19,
   "id": "7a685646-f3a1-4720-9dcb-19d08f22d849",
   "metadata": {},
   "outputs": [
    {
     "name": "stderr",
     "output_type": "stream",
     "text": [
      "[nltk_data] Downloading package punkt to /Users/bititude/nltk_data...\n",
      "[nltk_data]   Package punkt is already up-to-date!\n",
      "[nltk_data] Downloading package stopwords to\n",
      "[nltk_data]     /Users/bititude/nltk_data...\n",
      "[nltk_data]   Package stopwords is already up-to-date!\n"
     ]
    },
    {
     "name": "stdout",
     "output_type": "stream",
     "text": [
      "Apples are an important ingredient in many desserts, such as apple pie, apple crumble, apple crisp and apple cake. Apples are milled or pressed to produce apple juice, which may be drunk unfiltered (called apple cider in North America), or filtered. Apples are also made into apple butter and apple jelly. Grafting is an essential part of modern domesticated apple production, to be able to propagate the best cultivars; it is unclear when apple tree grafting was invented. The UK's national fruit collection database contains much information on the characteristics and origin of many apples, including alternative names for what is essentially the same \"genetic\" apple cultivar.  An apple is an edible fruit produced by an apple tree (Malus domestica). When cooked, some apple cultivars easily form a puree known as apple sauce.\n"
     ]
    }
   ],
   "source": [
    "import bs4 as bs\n",
    "import requests\n",
    "import re\n",
    "import nltk\n",
    "import ssl\n",
    "\n",
    "nltk.download('punkt')\n",
    "nltk.download('stopwords')\n",
    "try:\n",
    "    _create_unverified_https_context = ssl._create_unverified_context\n",
    "except AttributeError:\n",
    "    pass\n",
    "\n",
    "else:\n",
    "    ssl._create_default_https_context = _create_unverified_https_context\n",
    "\n",
    "\n",
    "url = \"https://en.wikipedia.org/wiki/apple\"\n",
    "\n",
    "request = requests.get(url)\n",
    "article = request.content\n",
    "soup = bs.BeautifulSoup(article, \"lxml\")\n",
    "paragraphs = soup.find_all('p')\n",
    "\n",
    "\n",
    "article_text = \"\"\n",
    "\n",
    "for paragraph in paragraphs:\n",
    "    article_text += paragraph.text\n",
    "\n",
    "article_text = re.sub(r'\\[[0-9]*\\]', ' ', article_text)\n",
    "article_text = re.sub(r'\\s+', ' ', article_text)\n",
    "formatted_article_text = re.sub('[^a-zA-Z]', ' ', article_text)\n",
    "formatted_article_text = re.sub(r'\\s+', ' ', formatted_article_text)\n",
    "sentence_list = nltk.sent_tokenize(article_text)  # creates a list of sentence\n",
    "# downloads all stop words in english\n",
    "stopwords = nltk.corpus.stopwords.words('english')\n",
    "word_frequencies = {}\n",
    "for word in nltk.word_tokenize(formatted_article_text):\n",
    "    if word not in stopwords:\n",
    "        if word not in word_frequencies.keys():\n",
    "            word_frequencies[word] = 1\n",
    "        else:\n",
    "            word_frequencies[word] += 1\n",
    "    maximum_frequncy = max(word_frequencies.values())\n",
    "for word in word_frequencies.keys():\n",
    "    word_frequencies[word] = (word_frequencies[word]/maximum_frequncy)\n",
    "    sentence_scores = {}\n",
    "for sent in sentence_list:\n",
    "    for word in nltk.word_tokenize(sent.lower()):\n",
    "        if word in word_frequencies.keys():\n",
    "            if len(sent.split(' ')) < 30:\n",
    "                if sent not in sentence_scores.keys():\n",
    "                    sentence_scores[sent] = word_frequencies[word]\n",
    "                else:\n",
    "                    sentence_scores[sent] += word_frequencies[word]\n",
    "\n",
    "import heapq\n",
    "summary_sentences=heapq.nlargest(7,sentence_scores,key=sentence_scores.get)\n",
    "summary=' '.join(summary_sentences)\n",
    "print(summary)\n",
    "\n"
   ]
  },
  {
   "cell_type": "code",
   "execution_count": null,
   "id": "9a169e02",
   "metadata": {},
   "outputs": [],
   "source": []
  }
 ],
 "metadata": {
  "kernelspec": {
   "display_name": "Python 3",
   "language": "python",
   "name": "python3"
  },
  "language_info": {
   "codemirror_mode": {
    "name": "ipython",
    "version": 3
   },
   "file_extension": ".py",
   "mimetype": "text/x-python",
   "name": "python",
   "nbconvert_exporter": "python",
   "pygments_lexer": "ipython3",
   "version": "3.10.4"
  },
  "vscode": {
   "interpreter": {
    "hash": "aee8b7b246df8f9039afb4144a1f6fd8d2ca17a180786b69acc140d282b71a49"
   }
  }
 },
 "nbformat": 4,
 "nbformat_minor": 5
}
